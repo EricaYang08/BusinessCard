{
  "nbformat": 4,
  "nbformat_minor": 0,
  "metadata": {
    "colab": {
      "provenance": []
    },
    "kernelspec": {
      "name": "python3",
      "display_name": "Python 3"
    },
    "language_info": {
      "name": "python"
    }
  },
  "cells": [
    {
      "cell_type": "markdown",
      "source": [
        "# Introduction"
      ],
      "metadata": {
        "id": "IbdcBOyFWrXu"
      }
    },
    {
      "cell_type": "markdown",
      "source": [
        "This project implements a full pipeline to extract text from scanned business card images,\n",
        "classify the extracted text into structured fields (such as Name, Phone, Email, Address, Company, etc.),\n",
        "and output organized results.\n",
        "\n",
        "Using a combination of OpenCV, Pytesseract OCR, a PyTorch classifier, and rule-based post-processing,\n",
        "the system achieves approximately 80% field extraction accuracy on real-world noisy business card images.\n"
      ],
      "metadata": {
        "id": "wOHb7QqPWumb"
      }
    },
    {
      "cell_type": "code",
      "source": [
        "!pip install pytesseract\n",
        "!pip install faker\n",
        "import cv2\n",
        "import pytesseract\n",
        "from pytesseract import Output\n",
        "from faker import Faker\n",
        "import random\n",
        "import torch\n",
        "import torch.nn as nn\n",
        "from torch.utils.data import DataLoader, TensorDataset\n",
        "from torch import tensor\n",
        "from torch.nn.utils.rnn import pad_sequence\n",
        "from collections import Counter\n",
        "import re"
      ],
      "metadata": {
        "id": "gVIIPXnciiHz",
        "colab": {
          "base_uri": "https://localhost:8080/"
        },
        "outputId": "7e9d1af8-d4a3-4958-ade2-e5669c4e5020"
      },
      "execution_count": 37,
      "outputs": [
        {
          "output_type": "stream",
          "name": "stdout",
          "text": [
            "Requirement already satisfied: pytesseract in /usr/local/lib/python3.11/dist-packages (0.3.13)\n",
            "Requirement already satisfied: packaging>=21.3 in /usr/local/lib/python3.11/dist-packages (from pytesseract) (24.2)\n",
            "Requirement already satisfied: Pillow>=8.0.0 in /usr/local/lib/python3.11/dist-packages (from pytesseract) (11.2.1)\n",
            "Requirement already satisfied: faker in /usr/local/lib/python3.11/dist-packages (37.1.0)\n",
            "Requirement already satisfied: tzdata in /usr/local/lib/python3.11/dist-packages (from faker) (2025.2)\n"
          ]
        }
      ]
    },
    {
      "cell_type": "code",
      "source": [
        "# Device setup\n",
        "device = torch.device('cuda' if torch.cuda.is_available() else 'cpu')"
      ],
      "metadata": {
        "id": "fWDSE1ahvbpV"
      },
      "execution_count": 38,
      "outputs": []
    },
    {
      "cell_type": "markdown",
      "source": [
        "## OpenCV + Pytesseract (image preprocessing)"
      ],
      "metadata": {
        "id": "clS3PIDmyLmq"
      }
    },
    {
      "cell_type": "code",
      "execution_count": 39,
      "metadata": {
        "id": "bF-T07H_fSf1"
      },
      "outputs": [],
      "source": [
        "\n",
        "#function for getting the text from the image using openCV and pytessearct\n",
        "\n",
        "def get_text_lines(image_path):\n",
        "    image = cv2.imread(image_path)\n",
        "\n",
        "    if image is None:\n",
        "        print(\"Unable to read image\")\n",
        "        return []\n",
        "\n",
        "    #preprocess the image for RGB version and rnu the result through tesseract\n",
        "    rgb = cv2.cvtColor(image, cv2.COLOR_BGR2RGB)\n",
        "    results = pytesseract.image_to_data(rgb,output_type = Output.DICT)\n",
        "\n",
        "    # group the words by its block, line and paragraph so words in each line is combined as sentence\n",
        "    # only use the words that have confidence score > 60\n",
        "    result_word = {}\n",
        "    for i in range(len(results['text'])):\n",
        "        if int(results['conf'][i]) > 60 and results['text'][i].strip() != '':\n",
        "            key = (results['block_num'][i], results['par_num'][i], results['line_num'][i])\n",
        "            value = (results['left'][i], results['text'][i])\n",
        "            if key in result_word:\n",
        "                result_word[key].append(value)\n",
        "            else:\n",
        "                result_word[key] = [value]\n",
        "\n",
        "    #sort words in each line by their position(left coordinate) and then join them\n",
        "    line_texts = []\n",
        "    for words in result_word.values():\n",
        "        sorted_words = sorted(words, key=lambda x: x[0])  # Sort by left position\n",
        "        line = \" \".join([w[1] for w in sorted_words])\n",
        "        line_texts.append(line)\n",
        "\n",
        "    return line_texts\n"
      ]
    },
    {
      "cell_type": "markdown",
      "source": [
        "## Rule Based Classification"
      ],
      "metadata": {
        "id": "cx6tn8pdyT12"
      }
    },
    {
      "cell_type": "code",
      "source": [
        "#This function set rules to category input texts to different output categories using rules\n",
        "def rule_predict_label(line):\n",
        "    line = line.strip()\n",
        "    lower = line.lower()\n",
        "    digits = re.sub(r\"[^\\d]\", \"\", line)\n",
        "\n",
        "    # check for keywords as title\n",
        "    if any(word in lower for word in [\"ceo\", \"cto\", \"manager\", \"engineer\", \"director\", \"president\", \"developer\", \"founder\", \"professor\", \"consultant\", \"attorney\", \"analyst\"]):\n",
        "        return \"Title\"\n",
        "\n",
        "    #check for @ as email\n",
        "    if line.count(\"@\") == 1:\n",
        "        return \"Email\"\n",
        "\n",
        "    #check for website\n",
        "    if lower.startswith(\"www.\") or \".com\" in lower or \".org\" in lower or \".net\" in lower:\n",
        "        return \"Website\"\n",
        "\n",
        "    # check and seperate fax and phone number\n",
        "    if digits.isdigit() and len(digits) >= 6:\n",
        "        if \"fax\" in lower:\n",
        "            return \"Fax\"\n",
        "        if lower.startswith(('p', 'ph', 'phone', 'cell', 't')) or \"phone\" in lower or \"tel\" in lower:\n",
        "            return \"Phone\"\n",
        "        cleaned_line = re.sub(r\"[-().+ ]\", \"\", line)\n",
        "        if cleaned_line.isdigit():\n",
        "            return \"Phone\"\n",
        "        char_count = len(line.replace(\" \", \"\"))\n",
        "        if char_count > 0 and (len(digits) / char_count) >= 0.5:\n",
        "            return \"Phone\"\n",
        "        #if contain more than 6 digits in line but not phone or fax, treat it as address\n",
        "        else:\n",
        "            return \"Address\"\n",
        "\n",
        "    #check for Address\n",
        "    if re.match(r\"^\\d{1,5} [A-Za-z]\", line):\n",
        "        return \"Address\"\n",
        "    if re.search(r\"\\b\\w+\\s+\\d{1,5}\\s+\\w+\\b\", line):\n",
        "        return \"Address\"\n",
        "\n",
        "    #check for name\n",
        "    if re.match(r\"^[A-Z][A-Z]+( [A-Z][A-Z]+)+$\", line) or re.match(r\"^[A-Z][a-z]+ [A-Z][a-z]+$\", line):\n",
        "        return \"Name\"\n",
        "\n",
        "    if any(word in lower for word in [\"inc\", \"llc\", \"corp\", \"solutions\", \"group\", \"technologies\", \"communications\", \"systems\", \"company\", \"university\"]):\n",
        "        return \"Company\"\n",
        "\n",
        "    return \"Other\"\n",
        "\n"
      ],
      "metadata": {
        "id": "IiGwzla_ySON"
      },
      "execution_count": 40,
      "outputs": []
    },
    {
      "cell_type": "markdown",
      "source": [
        "# generate 1000 test cases for model"
      ],
      "metadata": {
        "id": "1JdaND991rE2"
      }
    },
    {
      "cell_type": "code",
      "source": [
        "faker = Faker()\n",
        "dataset = []\n",
        "#generate 1000 fake name,phone,address etc.\n",
        "fields = [\n",
        "      (\"Name\", faker.name),\n",
        "      (\"Phone\", faker.phone_number),\n",
        "      (\"Address\", faker.address),\n",
        "      (\"Email\", faker.email),\n",
        "      (\"Company\", faker.company),\n",
        "      (\"Website\", faker.url),\n",
        "      (\"Other\",faker.sentence),\n",
        "  ]\n",
        "\n",
        "for i in range(1000):\n",
        "  for label,value in fields:\n",
        "    dataset.append((value(), label))\n",
        "\n",
        "#shuffle the dataset so model does not see same order\n",
        "random.shuffle(dataset)\n"
      ],
      "metadata": {
        "id": "kx4tAhSayZHM"
      },
      "execution_count": 41,
      "outputs": []
    },
    {
      "cell_type": "markdown",
      "source": [
        "# Encode Labels"
      ],
      "metadata": {
        "id": "6CRkQt-RyqrA"
      }
    },
    {
      "cell_type": "code",
      "source": [
        "#assign each label with a corresponding number\n",
        "classes = [\"Name\", \"Phone\", \"Address\", \"Email\", \"Company\", \"Website\", \"Title\", \"Other\"]\n",
        "class_to_idx = {cls: idx for idx, cls in enumerate(classes)}\n",
        "idx_to_class = {idx: cls for cls, idx in class_to_idx.items()}\n",
        "\n",
        "#encode every label inside dataset to corresponding number\n",
        "targets = []\n",
        "for text, label in dataset:\n",
        "    targets.append(class_to_idx.get(label, class_to_idx[\"Other\"]))\n",
        "\n",
        "targets = torch.tensor(targets)"
      ],
      "metadata": {
        "id": "4-3l9L_AErk3"
      },
      "execution_count": 42,
      "outputs": []
    },
    {
      "cell_type": "markdown",
      "source": [
        "## Tokenization(transfer words to ID)"
      ],
      "metadata": {
        "id": "zMLt4cRVybxa"
      }
    },
    {
      "cell_type": "code",
      "source": [
        "padded_sequences = []\n",
        "label_list = []\n",
        "\n",
        "#count each words\n",
        "word_counter = Counter()\n",
        "for text, label in dataset:\n",
        "    tokens = text.lower().split()\n",
        "    word_counter.update(tokens)\n",
        "\n",
        "# Build vocab\n",
        "#pad 0 is used for future step so each words have same length\n",
        "#unknown is default to 1\n",
        "vocab = {\"<pad>\": 0, \"<unk>\": 1}\n",
        "i = 2\n",
        "for word in word_counter:\n",
        "    vocab[word] = i\n",
        "    i += 1\n",
        "\n",
        "# Now tokenize each text separately\n",
        "for text, label in dataset:\n",
        "    tokens = text.lower().split()\n",
        "    word_ids = [vocab.get(word, 1) for word in tokens]\n",
        "    padded_sequences.append(tensor(word_ids))\n",
        "    label_list.append(class_to_idx.get(label, class_to_idx[\"Other\"]))\n",
        "\n",
        "# Pad sequences\n",
        "padded_inputs = pad_sequence(padded_sequences, batch_first=True, padding_value=0)\n",
        "targets = torch.tensor(label_list)"
      ],
      "metadata": {
        "id": "o2_3Gj5m5c3e"
      },
      "execution_count": 43,
      "outputs": []
    },
    {
      "cell_type": "markdown",
      "source": [
        "# Create DataLoader"
      ],
      "metadata": {
        "id": "Vk4dHElvy6HH"
      }
    },
    {
      "cell_type": "code",
      "source": [
        "#combine them as dataset\n",
        "full_dataset = TensorDataset(padded_inputs, targets)\n",
        "batch_size = 32\n",
        "train_loader = DataLoader(full_dataset, batch_size=batch_size, shuffle=True)"
      ],
      "metadata": {
        "id": "T3TlH6ZZtcpx"
      },
      "execution_count": 44,
      "outputs": []
    },
    {
      "cell_type": "markdown",
      "source": [
        "# Build Model"
      ],
      "metadata": {
        "id": "IXjz020V5AZM"
      }
    },
    {
      "cell_type": "code",
      "source": [
        "#class for building the business card classification model\n",
        "class BusinessCardClassifier(nn.Module):\n",
        "    def __init__(self, vocab_size, embed_dim, num_classes):\n",
        "        super().__init__()\n",
        "        self.embedding = nn.Embedding(vocab_size, embed_dim, padding_idx=0)\n",
        "        self.fc = nn.Linear(embed_dim, num_classes)\n",
        "\n",
        "    def forward(self, x):\n",
        "        embedded = self.embedding(x)\n",
        "        mean_embedded = embedded.mean(dim=1)  # Average pooling\n",
        "        return self.fc(mean_embedded)\n",
        "\n",
        "model = BusinessCardClassifier(len(vocab), 64, len(classes)).to(device)"
      ],
      "metadata": {
        "id": "jh2iVDJO5Ff4"
      },
      "execution_count": 45,
      "outputs": []
    },
    {
      "cell_type": "markdown",
      "source": [
        "# PyTorch Training"
      ],
      "metadata": {
        "id": "qVfDzOa-5L8A"
      }
    },
    {
      "cell_type": "code",
      "source": [
        "#Training the pytorch model and calculating the loss and accuracy\n",
        "optimizer = torch.optim.Adam(model.parameters(), lr=0.01)\n",
        "criterion = nn.CrossEntropyLoss()\n",
        "\n",
        "num_epochs = 20\n",
        "\n",
        "for epoch in range(num_epochs):\n",
        "    model.train()\n",
        "    total_loss = 0\n",
        "    correct = 0\n",
        "    total = 0\n",
        "\n",
        "    for inputs, labels in train_loader:\n",
        "        inputs = inputs.to(device)\n",
        "        labels = labels.to(device)\n",
        "\n",
        "        optimizer.zero_grad()\n",
        "        outputs = model(inputs)\n",
        "        loss = criterion(outputs, labels)\n",
        "        loss.backward()\n",
        "        optimizer.step()\n",
        "\n",
        "        total_loss += loss.item()\n",
        "        preds = outputs.argmax(dim=1)\n",
        "        correct += (preds == labels).sum().item()\n",
        "        total += labels.size(0)\n",
        "\n",
        "    print(f\"Epoch {epoch+1}, Loss: {total_loss:.4f}, Accuracy: {correct/total:.4f}\")"
      ],
      "metadata": {
        "colab": {
          "base_uri": "https://localhost:8080/"
        },
        "id": "vV8ahU4n5LTp",
        "outputId": "fb6034b5-bab4-49df-8d33-95e151f6685e"
      },
      "execution_count": 46,
      "outputs": [
        {
          "output_type": "stream",
          "name": "stdout",
          "text": [
            "Epoch 1, Loss: 330.6282, Accuracy: 0.4329\n",
            "Epoch 2, Loss: 172.2023, Accuracy: 0.7147\n",
            "Epoch 3, Loss: 93.7138, Accuracy: 0.8866\n",
            "Epoch 4, Loss: 28.5673, Accuracy: 0.9884\n",
            "Epoch 5, Loss: 6.5609, Accuracy: 0.9999\n",
            "Epoch 6, Loss: 2.7519, Accuracy: 1.0000\n",
            "Epoch 7, Loss: 1.5869, Accuracy: 1.0000\n",
            "Epoch 8, Loss: 1.0434, Accuracy: 1.0000\n",
            "Epoch 9, Loss: 0.7392, Accuracy: 1.0000\n",
            "Epoch 10, Loss: 0.5494, Accuracy: 1.0000\n",
            "Epoch 11, Loss: 0.4223, Accuracy: 1.0000\n",
            "Epoch 12, Loss: 0.3323, Accuracy: 1.0000\n",
            "Epoch 13, Loss: 0.2666, Accuracy: 1.0000\n",
            "Epoch 14, Loss: 0.2172, Accuracy: 1.0000\n",
            "Epoch 15, Loss: 0.1789, Accuracy: 1.0000\n",
            "Epoch 16, Loss: 0.1488, Accuracy: 1.0000\n",
            "Epoch 17, Loss: 0.1250, Accuracy: 1.0000\n",
            "Epoch 18, Loss: 0.1055, Accuracy: 1.0000\n",
            "Epoch 19, Loss: 0.0896, Accuracy: 1.0000\n",
            "Epoch 20, Loss: 0.0766, Accuracy: 1.0000\n"
          ]
        }
      ]
    },
    {
      "cell_type": "markdown",
      "source": [
        "# Save Model"
      ],
      "metadata": {
        "id": "Omn_a_O-HzEh"
      }
    },
    {
      "cell_type": "code",
      "source": [
        "import pickle\n",
        "\n",
        "# Save model parameters\n",
        "torch.save(model.state_dict(), \"/content/business_card_classifier.pth\")\n",
        "\n",
        "# Save vocab and idx_to_class mappings\n",
        "\n",
        "with open(\"/content/vocab.pkl\", \"wb\") as f:\n",
        "    pickle.dump(vocab, f)\n",
        "\n",
        "with open(\"/content/idx_to_class.pkl\", \"wb\") as f:\n",
        "    pickle.dump(idx_to_class, f)"
      ],
      "metadata": {
        "id": "NQcT9Q_zHyqR"
      },
      "execution_count": 47,
      "outputs": []
    },
    {
      "cell_type": "markdown",
      "source": [
        "# Prediction Using Model"
      ],
      "metadata": {
        "id": "XfE8pj_VIOOZ"
      }
    },
    {
      "cell_type": "code",
      "source": [
        "import zipfile\n",
        "import os\n",
        "\n",
        "zip_path = \"/content/business_card.zip\"\n",
        "\n",
        "# Extract the zip\n",
        "with zipfile.ZipFile(zip_path, 'r') as zip_ref:\n",
        "    zip_ref.extractall(\"/content/business_card_folder\")"
      ],
      "metadata": {
        "id": "ruBv8OvEILmt"
      },
      "execution_count": 48,
      "outputs": []
    },
    {
      "cell_type": "code",
      "source": [
        "# Load vocab and idx_to_class\n",
        "with open(\"/content/vocab.pkl\", \"rb\") as f:\n",
        "    vocab = pickle.load(f)\n",
        "\n",
        "with open(\"/content/idx_to_class.pkl\", \"rb\") as f:\n",
        "    idx_to_class = pickle.load(f)\n",
        "\n",
        "# --- Rebuild model and load weights ---\n",
        "device = torch.device('cuda' if torch.cuda.is_available() else 'cpu')\n",
        "\n",
        "model = BusinessCardClassifier(len(vocab), 64, len(idx_to_class)).to(device)\n",
        "model.load_state_dict(torch.load(\"/content/business_card_classifier.pth\", map_location=device))\n",
        "model.eval()\n"
      ],
      "metadata": {
        "colab": {
          "base_uri": "https://localhost:8080/"
        },
        "id": "rTw-_GNtJ3ao",
        "outputId": "55abde71-ed37-4a66-a8e6-47ac820e7f16"
      },
      "execution_count": 49,
      "outputs": [
        {
          "output_type": "execute_result",
          "data": {
            "text/plain": [
              "BusinessCardClassifier(\n",
              "  (embedding): Embedding(9410, 64, padding_idx=0)\n",
              "  (fc): Linear(in_features=64, out_features=8, bias=True)\n",
              ")"
            ]
          },
          "metadata": {},
          "execution_count": 49
        }
      ]
    },
    {
      "cell_type": "markdown",
      "source": [
        "### Function for combine two classification model"
      ],
      "metadata": {
        "id": "IaBCiMUQZeq1"
      }
    },
    {
      "cell_type": "code",
      "source": [
        "def predict_text_line_combined(line):\n",
        "    # input for Model prediction\n",
        "    tokens = line.lower().split()\n",
        "    word_ids = [vocab.get(word, 1) for word in tokens]\n",
        "    input_tensor = torch.tensor([word_ids], device=device)\n",
        "\n",
        "    with torch.no_grad():\n",
        "        output = model(input_tensor)\n",
        "        pred_idx = output.argmax(dim=1).item()\n",
        "        model_label = idx_to_class[pred_idx]\n",
        "\n",
        "    # Rule-based prediction\n",
        "    rule_label = rule_predict_label(line)\n",
        "\n",
        "    # Combine decision\n",
        "    if rule_label != \"Other\":\n",
        "        # If rule is confident (not Other), trust the rule\n",
        "        final_label = rule_label\n",
        "    else:\n",
        "        # Otherwise trust the model\n",
        "        final_label = model_label\n",
        "\n",
        "    return final_label\n"
      ],
      "metadata": {
        "id": "NSBALHldKEn9"
      },
      "execution_count": 50,
      "outputs": []
    },
    {
      "cell_type": "markdown",
      "source": [
        "### Revalidation prediction function"
      ],
      "metadata": {
        "id": "BTFWPk6omHM6"
      }
    },
    {
      "cell_type": "code",
      "source": [
        "# re validate after the prediction is made\n",
        "def validate_prediction(line, label):\n",
        "    line = line.strip()\n",
        "    lower = line.lower()\n",
        "    digits = re.sub(r\"[^\\d]\", \"\", line)\n",
        "\n",
        "    if label == \"Phone\":\n",
        "        # If not enough digits, maybe not a phone\n",
        "        if len(digits) < 6:\n",
        "            return \"Other\"\n",
        "    if label == \"Email\":\n",
        "        # If no @ symbol, not an email\n",
        "        if \"@\" not in line:\n",
        "            return \"Other\"\n",
        "    if label == \"Website\":\n",
        "        # If no www or .com/.org/.net, not a website\n",
        "        if not (\"www.\" in lower or \".com\" in lower or \".org\" in lower or \".net\" in lower):\n",
        "            return \"Other\"\n",
        "    return label\n"
      ],
      "metadata": {
        "id": "nfCya6p7dnLU"
      },
      "execution_count": 51,
      "outputs": []
    },
    {
      "cell_type": "markdown",
      "source": [
        "### Specific function for phone, fax number"
      ],
      "metadata": {
        "id": "Sxg9v6_CmMzi"
      }
    },
    {
      "cell_type": "code",
      "source": [
        "# function to extract Phone and Fax numbers from messy lines.\n",
        "def extract_phone_fax_numbers_and_leftover(line):\n",
        "\n",
        "    line = line.strip()\n",
        "\n",
        "    # allow messy phone number due to possible mistake in OCR\n",
        "    phone_patterns = re.findall(r\"(\\d{2,4}[\\s\\-\\.]?\\d{2,4}[\\s\\-\\.]?\\d{3,4}[\\s\\-\\.]?\\d{0,4})\", line)\n",
        "\n",
        "    fax = None\n",
        "    phone = None\n",
        "    leftover = None\n",
        "\n",
        "    if re.search(r\"[Ff][aA]?[xX]?\", line):\n",
        "        parts = re.split(r\"[Ff][aA]?[xX]?[ :]*\", line)\n",
        "        #if more than one lines in parts\n",
        "        if len(parts) > 1:\n",
        "            phone_part = parts[0]\n",
        "            fax_part = parts[1]\n",
        "            # define phone number pattern\n",
        "            phones_in_phone_part = re.findall(r\"(\\d{2,4}[\\s\\-\\.]?\\d{2,4}[\\s\\-\\.]?\\d{3,4}[\\s\\-\\.]?\\d{0,4})\", phone_part)\n",
        "            #define fax number patter\n",
        "            phones_in_fax_part = re.findall(r\"(\\d{2,4}[\\s\\-\\.]?\\d{2,4}[\\s\\-\\.]?\\d{3,4}[\\s\\-\\.]?\\d{0,4})\", fax_part)\n",
        "\n",
        "            # rule: only one line is phone or fax\n",
        "            # avoid multiple lines of phone number details\n",
        "            if phones_in_phone_part:\n",
        "                phone = phones_in_phone_part[0]\n",
        "            if phones_in_fax_part:\n",
        "                fax = phones_in_fax_part[0]\n",
        "\n",
        "            # Remove detected numbers from leftover\n",
        "            leftover = re.sub(r\"(\\d{2,4}[\\s\\-\\.]?\\d{2,4}[\\s\\-\\.]?\\d{3,4}[\\s\\-\\.]?\\d{0,4})\", \"\", phone_part).strip()\n",
        "    else:\n",
        "        # if only one line in parts, then it is phone number\n",
        "        if phone_patterns:\n",
        "            phone = phone_patterns[0]\n",
        "            leftover = re.sub(r\"(\\d{2,4}[\\s\\-\\.]?\\d{2,4}[\\s\\-\\.]?\\d{3,4}[\\s\\-\\.]?\\d{0,4})\", \"\", line).strip()\n",
        "        else:\n",
        "            leftover = line  # fallback: if no good number, keep full line\n",
        "\n",
        "    return phone, fax, leftover\n",
        "\n",
        "\n"
      ],
      "metadata": {
        "id": "ntobTlhLBpNt"
      },
      "execution_count": 52,
      "outputs": []
    },
    {
      "cell_type": "code",
      "source": [
        "#group the lines with same category together\n",
        "def group_and_print_predictions(image_path, lines_and_labels):\n",
        "    print(f\"\\nBusiness Card: {image_path}\")\n",
        "\n",
        "    # Initialize fields\n",
        "    fields = {\n",
        "        \"Name\": [],\n",
        "        \"Title\": [],\n",
        "        \"Company\": [],\n",
        "        \"Address\": [],\n",
        "        \"Phone\": [],\n",
        "        \"Fax\": [],\n",
        "        \"Email\": [],\n",
        "        \"Website\": [],\n",
        "        \"Other\": []\n",
        "    }\n",
        "\n",
        "    # Fill fields\n",
        "    for line, label in lines_and_labels:\n",
        "        fields[label].append(line)\n",
        "\n",
        "    merged_company = \" \".join(fields[\"Company\"]) if fields[\"Company\"] else None\n",
        "    merged_address = \" \".join(fields[\"Address\"]) if fields[\"Address\"] else None\n",
        "\n",
        "    if fields[\"Name\"]:\n",
        "        print(f\"  Name: {' | '.join(fields['Name'])}\")\n",
        "    if fields[\"Title\"]:\n",
        "        print(f\"  Title: {' | '.join(fields['Title'])}\")\n",
        "    if merged_company:\n",
        "        print(f\"  Company: {merged_company}\")\n",
        "    if merged_address:\n",
        "        print(f\"  Address: {merged_address}\")\n",
        "\n",
        "    # handle phone, fax and leftover\n",
        "    if fields[\"Phone\"]:\n",
        "      phone_line = fields[\"Phone\"][0]\n",
        "      phone, fax, leftover = extract_phone_fax_numbers_and_leftover(phone_line)\n",
        "\n",
        "      if phone:\n",
        "        print(f\"  Phone: {phone}\")\n",
        "      if fax:\n",
        "        print(f\"  Fax: {fax}\")\n",
        "      if leftover:\n",
        "        fields[\"Address\"].append(leftover)  # the leftover move to Address since it contain number\n",
        "    elif fields[\"Fax\"]:\n",
        "      fax_line = fields[\"Fax\"][0]\n",
        "      _, fax, leftover = extract_phone_fax_numbers_and_leftover(fax_line)\n",
        "      if fax:\n",
        "        print(f\"  Fax: {fax}\")\n",
        "      if leftover:\n",
        "        fields[\"Address\"].append(leftover)  # the leftover move to Address since it contain number\n",
        "\n",
        "\n",
        "    if fields[\"Email\"]:\n",
        "        print(f\"  Email: {fields['Email'][0]}\")\n",
        "    if fields[\"Website\"]:\n",
        "        print(f\"  Website: {' | '.join(fields['Website'])}\")\n",
        "    if fields[\"Other\"]:\n",
        "        print(f\"  Other: {' | '.join(fields['Other'])}\")\n"
      ],
      "metadata": {
        "id": "Ej0kRfYSbXiC"
      },
      "execution_count": 53,
      "outputs": []
    },
    {
      "cell_type": "code",
      "source": [
        "def find_deepest_folder_with_images(root):\n",
        "    for dirpath, dirnames, filenames in os.walk(root):\n",
        "        # Skip __MACOSX folder since it is empty folder\n",
        "        if \"__MACOSX\" in dirpath:\n",
        "            continue\n",
        "        # Check if real image files exist\n",
        "        if any(\n",
        "            fname.lower().endswith(('.jpg', '.jpeg', '.png')) and not fname.startswith(\"._\")\n",
        "            for fname in filenames\n",
        "        ):\n",
        "            return dirpath\n",
        "    return root  # fallback if nothing found\n",
        "\n",
        "\n",
        "image_folder = find_deepest_folder_with_images(\"/content/business_card_folder\")\n",
        "\n",
        "#find the images inside image_folder\n",
        "image_paths = sorted([\n",
        "    os.path.join(image_folder, f)\n",
        "    for f in os.listdir(image_folder)\n",
        "    if f.lower().endswith(('.jpg', '.jpeg', '.png')) and not f.startswith(\"._\")\n",
        "])\n",
        "\n",
        "\n",
        "for image_path in image_paths:\n",
        "    lines = get_text_lines(image_path)\n",
        "    results = []\n",
        "    for line in lines:\n",
        "        pred_label = predict_text_line_combined(line)\n",
        "        pred_label = validate_prediction(line, pred_label)\n",
        "        results.append((line, pred_label))\n",
        "\n",
        "    # Group and print results\n",
        "    group_and_print_predictions(image_path, results)"
      ],
      "metadata": {
        "colab": {
          "base_uri": "https://localhost:8080/"
        },
        "id": "nQTC8lemKGAv",
        "outputId": "6b31dbe0-ed44-4f9e-e8de-08d43c29b038"
      },
      "execution_count": 54,
      "outputs": [
        {
          "output_type": "stream",
          "name": "stdout",
          "text": [
            "\n",
            "Business Card: /content/business_card_folder/business_card/002.jpg\n",
            "  Name: MEXICAN GRILL | CHRIS SALCEDO\n",
            "  Address: 2675 EL CAMINO REAL\n",
            "  Phone: 650.462.9154\n",
            "  Other: APPRENTICE | CHIPOTLE MEXICAN GRILL, I! | PALO ALTO, CA 94306\n",
            "\n",
            "Business Card: /content/business_card_folder/business_card/004.jpg\n",
            "  Name: VIJAY CHANDRASEKHAR\n",
            "  Title: Electrical Engineering\n",
            "  Address: 17 Comstock Circle\n",
            "  Phone: 916.221.0411\n",
            "  Email: E-mail: vijayc@stanford.edu\n",
            "  Other: STANFORD | Apt 101 | Stanford, CA 94305\n",
            "\n",
            "Business Card: /content/business_card_folder/business_card/005.jpg\n",
            "  Name: carol soh\n",
            "  Company: ‘COMMUNICATIONS\n",
            "  Email: carol@acecomm.sg\n",
            "  Other: ace sdaytons\n",
            "\n",
            "Business Card: /content/business_card_folder/business_card/006.jpg\n",
            "  Name: RAFAEL ULATE\n",
            "  Title: DIRECTOR OF ADMISSIONS | DEPARTMENT OF ELECTRICAL ENGINEERING | DAVID PACKARD ELECTRICAL ENGINEERING\n",
            "  Email: STANFORD, CALIFORNIA 94305-9505 ulate@ee.stanford.edu\n",
            "\n",
            "Business Card: /content/business_card_folder/business_card/007.jpg\n",
            "  Address: Office Hours 410 S. Craig St. Suite 102\n",
            "  Fax: 412-621-2410\n",
            "  Other: MARK D. MALVIN, D.M.D. | Comprehensive Dental Care | By Appointment Pittsburgh, PA 15213\n",
            "\n",
            "Business Card: /content/business_card_folder/business_card/008.jpg\n",
            "  Name: Richard Svienty member of technical staff\n",
            "  Address: f 847 273-5610 hoffman estates, illinois 60192\n",
            "  Phone: 847 273-5617 5407\n",
            "  Email: svienty@pv.com www.pv.com\n",
            "  Other: packetvideo\n",
            "\n",
            "Business Card: /content/business_card_folder/business_card/009.jpg\n",
            "  Title: Software Engineer http://www.avtec.com\n",
            "  Company: SYSTEMS AVTEC SYSTEMS, INC.\n",
            "  Address: 14432 ALBEMARLE POINT PLACE aA\n",
            "  Email: MICHAEL POOLE mpoole @ avtec.com\n",
            "  Other: CHANTILLY, VIRGINIA 20151\n",
            "\n",
            "Business Card: /content/business_card_folder/business_card/010.jpg\n",
            "  Name: Ben Congleton\n",
            "  Company: web solutions | software development\n",
            "  Email: bc@nethernet.com\n",
            "  Other: nethernet\n",
            "\n",
            "Business Card: /content/business_card_folder/business_card/012.jpg\n",
            "  Address: 5432 Blackwelder CT, Palo Alto, CA 84\n",
            "  Other: 5341\n",
            "\n",
            "Business Card: /content/business_card_folder/business_card/013.jpg\n",
            "  Name: Samantha Smith\n",
            "  Company: Fabrikam, Inc\n",
            "  Address: 1234 Main Street - Portland, OR 65111\n",
            "  Website: www.fabrikam.com\n",
            "  Other: FOR WOMEN’S FASHIONABLE APPAREL AN | ACCESSORIES\n",
            "\n",
            "Business Card: /content/business_card_folder/business_card/015.jpg\n",
            "  Title: San Diego, CA 12793 Manager\n",
            "  Address: 8172 Miramar Road, MARGIE SHOOP\n",
            "  Phone: 603-555-0160\n",
            "  Website: www.margiestravel.com\n",
            "  Other: Margie’s Travel\n",
            "\n",
            "Business Card: /content/business_card_folder/business_card/017.jpg\n",
            "  Title: Bernard Desarnauts Founder & CEO\n",
            "  Fax: 61 802 4568\n",
            "  Email: bdesarnauts@circade.com\n",
            "  Website: www.circade.com\n",
            "  Other: CIRCADE\n",
            "\n",
            "Business Card: /content/business_card_folder/business_card/019.jpg\n",
            "  Company: FABRIKAM, INC.\n",
            "  Address: 57 N. Walnut Drive, Suite 120, New Orleans, LA 12329\n",
            "  Other: Eric Rothenberg, Owner, License #M45678\n",
            "\n",
            "Business Card: /content/business_card_folder/business_card/020.jpg\n",
            "  Phone: 203-555-0160\n",
            "  Other: Free Gift or Special | Package Offer Here | Apex Saunas & Wine Cellars\n",
            "\n",
            "Business Card: /content/business_card_folder/business_card/022.jpg\n",
            "  Title: Tim Butler Director of operations\n",
            "  Fax: 61 802 4568\n",
            "  Email: tbutler@circade.com\n",
            "  Website: www.circade.com\n",
            "  Other: #2 | CIRCAD\n",
            "\n",
            "Business Card: /content/business_card_folder/business_card/023.jpg\n",
            "  Name: DR. KELLY FOCHT\n",
            "  Address: 457 Main Street, Building 2 avoid a $25.00 ‘fee, please give notice at least 24\n",
            "  Other: Buffalo, NY 98052 | Your next appointment is: | hours prior to appointment time if you must cancel.\n",
            "\n",
            "Business Card: /content/business_card_folder/business_card/025.jpg\n",
            "  Name: Elizabeth Nelson | GD GD GD GD GD\n",
            "  Address: 6 Grade Teacher, Mount Pilot Elementary School 3200 Brushwood Ln. Tulsa, Oklahoma ae 2S ap\n",
            "  Fax: 701.981.5928\n",
            "  Email: Elizabeth.nelson@gmail.com\n",
            "  Other: > | LP LP a> i> ak < | GE\n",
            "\n",
            "Business Card: /content/business_card_folder/business_card/027.jpg\n",
            "  Name: Johnathan Smith\n",
            "  Address: 123 West Main Street, New York, NY10001\n",
            "  Phone: 555.123.4568 \n",
            "  Fax: 555.123.4567\n",
            "  Email: johnathan@biggrowth.com\n",
            "  Website: WWW.BIGGROWTH.COM\n",
            "\n",
            "Business Card: /content/business_card_folder/business_card/029.jpg\n",
            "  Name: Joey K. Smith\n",
            "  Title: Managing director\n",
            "  Address: 299 Newport Lane - Dunwoody, GA 30338\n",
            "  Phone: 770-391-9071 \n",
            "  Email: info@whitesandtravel.com\n",
            "  Other: WING Travel\n",
            "\n",
            "Business Card: /content/business_card_folder/business_card/031.jpg\n",
            "  Name: Gabriella MAGYAR | Conference Coordinator\n",
            "  Title: and Telecommunications Engineering\n",
            "  Address: Begijnhoflaan 93a, B-9000 Gent, Belgium\n",
            "  Phone: 3299 425\n",
            "  Website: ICST.ORG\n",
            "  Other: Institute for Computer Sciences, Social Informatics | | | e-mail: | skype: gabriella.magyar-icst\n",
            "\n",
            "Business Card: /content/business_card_folder/business_card/034.jpg\n",
            "  Title: Biometric Engineer\n",
            "  Company: Securics, Inc\n",
            "  Address: 1867 Austin Bluffs Pkwy, Ste 200 Office: 719-387-8 Colorado Springs, CO 80918 Cellular: 610-657-1\n",
            "  Website: www.securics.com\n",
            "  Other: “The Science of Security w | the Protection of Privacy” | Walter J. Scheirer\n",
            "\n",
            "Business Card: /content/business_card_folder/business_card/036.jpg\n",
            "  Name: BOB PHILLIPS\n",
            "  Website: econnection.net\n",
            "  Other: Supervisor\n",
            "\n",
            "Business Card: /content/business_card_folder/business_card/039.jpg\n",
            "  Title: Marketing director\n",
            "  Address: 299 Newport Lane - Dunwoody, GA 30338\n",
            "  Phone: 770-391-9071 \n",
            "  Email: info@whitesandtravel.com\n",
            "  Other: WING\n",
            "\n",
            "Business Card: /content/business_card_folder/business_card/041.jpg\n",
            "  Name: THE COUNTER | CUSTOM BUILT BURGERS | Jim Glover\n",
            "  Title: Manager\n",
            "  Email: paloalto@thecounterburger.com thecounterburger.com\n",
            "  Other: Counter Intelligence - A Licensed Franchise | The Counter Palo Alto Palo Alto CA 94306\n",
            "\n",
            "Business Card: /content/business_card_folder/business_card/047.jpg\n",
            "  Name: CHRIS POHALSKI | Stanford University\n",
            "  Title: Career Counselor, Engineering\n",
            "  Company: UNIVERSITY\n",
            "  Address: 563 Salvatierra Walk Stanford, CA 94305-8530\n",
            "  Phone: 650.725.1789\n",
            "  Email: pohalski@stanford.edu\n",
            "  Other: STANFORD | Career Development Center | cardinalcareers.stanford.edu\n"
          ]
        }
      ]
    }
  ]
}